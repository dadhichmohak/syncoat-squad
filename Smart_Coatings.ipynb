{
  "nbformat": 4,
  "nbformat_minor": 0,
  "metadata": {
    "colab": {
      "provenance": [],
      "gpuType": "T4"
    },
    "kernelspec": {
      "name": "python3",
      "display_name": "Python 3"
    },
    "language_info": {
      "name": "python"
    },
    "accelerator": "GPU"
  },
  "cells": [
    {
      "cell_type": "markdown",
      "source": [
        "<b><h1 style=\"text-align:center;\">SynCoat Squad: Advancing Smart Coatings with Genetic Algorithm Optimization</h1>\n",
        "</b>"
      ],
      "metadata": {
        "id": "87sQyEPaHikt"
      }
    },
    {
      "cell_type": "markdown",
      "source": [
        "In the growing paints industry, this model optimizes material formulations, considering properties like durability, self-healing, and UV resistance. It automates the process, improving product performance and **reducing R&D costs** by quickly finding the best formulations."
      ],
      "metadata": {
        "id": "NN9ebi52LiLF"
      }
    },
    {
      "cell_type": "markdown",
      "source": [
        "##Assumptions\n",
        "* The properties of materials (e.g., durability, self-healing) are considered relative to one another, based on the values provided in the materials dictionary.\n",
        "*  Material properties are constant and do not change with interactions in the formulation.\n",
        "*  Material properties combine linearly without synergistic or antagonistic interactions.\n",
        "*  Material properties are normalized to a scale of 0–1 for consistency.\n",
        "*  The fitness function weights properties like durability and cost to reflect their importance.\n"
      ],
      "metadata": {
        "id": "ITBGOgSALoPU"
      }
    },
    {
      "cell_type": "markdown",
      "source": [
        "## Workflow of the model\n",
        "- **Input**: A dictionary of materials with properties such as durability, cost, UV resistance, etc.\n",
        "- **Objective**: Find the best combination of materials that maximizes the performance of the coating while balancing cost and other trade-offs.\n",
        "- **Process**:\n",
        " - Initialize a population of random formulations.\n",
        " -Use a fitness function to evaluate each formulation based on weighted material properties.\n",
        " -Select parent formulations, perform crossover (combining material proportions), and apply mutation (introducing small random changes).\n",
        " -Repeat for a set number of generations or until improvements stagnate.\n",
        " -Output the optimal formulation.\n",
        "\n",
        "\n",
        "\n",
        "\n"
      ],
      "metadata": {
        "id": "XMCRlgvTLuHk"
      }
    },
    {
      "cell_type": "markdown",
      "source": [
        "## Features\n",
        "* **Mutation**: Introduces random changes to material proportions (±0.1) with a small probability to explore new solutions.\n",
        "* **Threshold for Improvement**: Stops the algorithm early if no significant fitness improvement occurs (fitness_threshold = 0.01).\n",
        "* **Stagnation Limit**: Ends the process after 5 generations without improvement to save resources."
      ],
      "metadata": {
        "id": "NsjTQGjVL2q9"
      }
    },
    {
      "cell_type": "markdown",
      "source": [
        "## Workflow of the GA\n",
        "*  **Initialization**: Start with random formulations (proportions of materials normalized to sum to 1).\n",
        "*  **Fitness Evaluation**: Score each formulation based on properties like durability, cost, and miscibility.\n",
        "*  **Selection and Evolution**: Use the genetic algorithm to iteratively improve formulations through selection, crossover, and mutation.\n",
        "*  **Early Stopping**: Stop if the algorithm stagnates, outputting the best formulation found."
      ],
      "metadata": {
        "id": "t46CbCJyL5lU"
      }
    },
    {
      "cell_type": "code",
      "source": [
        "import numpy as np\n",
        "import random\n",
        "\n",
        "random.seed(42) # to get same answer every time when not changes anything in the code\n",
        "np.random.seed(42)\n",
        "\n",
        "# Materials with updated properties\n",
        "materials = {\n",
        "    \"Epoxy_Resin\": {\"durability\": 0.8, \"self_healing\": 0.5, \"cost\": 1.2, \"corrosion_resistance\": 0.9,\n",
        "                    \"UV_resistance\": 0.7, \"hydrophobicity\": 0.3, \"antimicrobial\": 0.4,\n",
        "                    \"adhesion_strength\": 0.8, \"miscibility\": 0.9, \"reaction_tendency\": 0.2},\n",
        "    \"Polyurethane\": {\"durability\": 0.9, \"self_healing\": 0.6, \"cost\": 1.0, \"corrosion_resistance\": 0.8,\n",
        "                    \"UV_resistance\": 0.9, \"hydrophobicity\": 0.8, \"antimicrobial\": 0.5,\n",
        "                    \"adhesion_strength\": 0.7, \"miscibility\": 0.9, \"reaction_tendency\": 0.3},\n",
        "    \"Silica_Nanoparticles\": {\"durability\": 0.7, \"self_healing\": 0.4, \"cost\": 1.5, \"corrosion_resistance\": 1.0,\n",
        "                            \"UV_resistance\": 0.8, \"hydrophobicity\": 0.5, \"antimicrobial\": 0.3,\n",
        "                            \"adhesion_strength\": 0.6, \"miscibility\": 0.6, \"reaction_tendency\": 0.1},\n",
        "    \"Healing_Agent\": {\"durability\": 0.5, \"self_healing\": 1.0, \"cost\": 2.0, \"corrosion_resistance\": 0.3,\n",
        "                      \"UV_resistance\": 0.3, \"hydrophobicity\": 0.1, \"antimicrobial\": 0.6,\n",
        "                      \"adhesion_strength\": 0.5, \"miscibility\": 0.4, \"reaction_tendency\": 0.7},\n",
        "}\n",
        "\n",
        "# Parameters for the genetic algorithm\n",
        "population_size = 45\n",
        "generations = 50\n",
        "mutation_rate = 0.1\n",
        "fitness_threshold = 0.01  #for early stopping\n",
        "stagnation_limit = 5  # final limit to stop\n",
        "no_improvement_count = 0\n",
        "\n",
        "# Normalize material properties\n",
        "def normalize_material_properties(materials):\n",
        "    normalized_materials = {}\n",
        "    for material, properties in materials.items():\n",
        "        normalized_properties = {}\n",
        "        for prop, value in properties.items():\n",
        "\n",
        "            all_values = [m[prop] for m in materials.values()]\n",
        "            min_val, max_val = min(all_values), max(all_values)\n",
        "\n",
        "            # Normalize\n",
        "            normalized_value = (value - min_val) / (max_val - min_val)\n",
        "            normalized_properties[prop] = normalized_value\n",
        "        normalized_materials[material] = normalized_properties\n",
        "    return normalized_materials\n",
        "\n",
        "# Apply normalization\n",
        "materials = normalize_material_properties(materials)\n",
        "\n",
        "# Fitness function to score formulations based on weighted objectives\n",
        "def fitness(formulation):\n",
        "    durability = sum(materials[mat][\"durability\"] * qty for mat, qty in formulation.items())\n",
        "    self_healing = sum(materials[mat][\"self_healing\"] * qty for mat, qty in formulation.items())\n",
        "    cost = sum(materials[mat][\"cost\"] * qty for mat, qty in formulation.items())\n",
        "    corrosion_resistance = sum(materials[mat][\"corrosion_resistance\"] * qty for mat, qty in formulation.items())\n",
        "    adhesion_strength = sum(materials[mat][\"adhesion_strength\"] * qty for mat, qty in formulation.items())\n",
        "    miscibility = sum(materials[mat][\"miscibility\"] * qty for mat, qty in formulation.items())\n",
        "    reaction_tendency = sum(materials[mat][\"reaction_tendency\"] * qty for mat, qty in formulation.items())\n",
        "\n",
        "    #fitness function with weights\n",
        "    return (0.8 * durability + 0.5 * self_healing + 0.6 * corrosion_resistance +\n",
        "            0.7 * adhesion_strength + 0.5 * miscibility - 0.15 * cost -\n",
        "            0.05 * reaction_tendency)\n",
        "\n",
        "# Initialize a population of random formulations\n",
        "def initialize_population():\n",
        "    population = []\n",
        "    for _ in range(population_size):\n",
        "        formulation = {mat: random.uniform(0, 1) for mat in materials.keys()}\n",
        "\n",
        "        # Normalize\n",
        "        total = sum(formulation.values())\n",
        "        for mat in formulation:\n",
        "            formulation[mat] /= total\n",
        "\n",
        "        population.append(formulation)\n",
        "    return population\n",
        "\n",
        "# Selection process based on fitness\n",
        "def select_parents(population):\n",
        "    fitness_scores = [fitness(formulation) for formulation in population]\n",
        "    selected = np.random.choice(population, size=2, p=np.array(fitness_scores)/sum(fitness_scores))\n",
        "    return selected\n",
        "\n",
        "# Crossover function to combine genes from two parents\n",
        "def crossover(parent1, parent2):\n",
        "    child = {}\n",
        "    for mat in materials.keys():\n",
        "        child[mat] = (parent1[mat] + parent2[mat]) / 2\n",
        "\n",
        "    # Normalize\n",
        "    total = sum(child.values())\n",
        "    for mat in child:\n",
        "        child[mat] /= total\n",
        "\n",
        "    return child\n",
        "\n",
        "# Mutation function to introduce random changes\n",
        "def mutate(formulation):\n",
        "    for mat in formulation.keys():\n",
        "        if random.random() < mutation_rate:\n",
        "            formulation[mat] += random.uniform(-0.1, 0.1)\n",
        "\n",
        "    # Normalize\n",
        "    total = sum(formulation.values())\n",
        "    for mat in formulation:\n",
        "        formulation[mat] /= total\n",
        "\n",
        "    return formulation\n",
        "\n",
        "def genetic_algorithm():\n",
        "    population = initialize_population()\n",
        "    best_fitness = -float('inf')\n",
        "    for gen in range(generations):\n",
        "        new_population = []\n",
        "        for _ in range(population_size // 2):\n",
        "            parent1, parent2 = select_parents(population)\n",
        "            child1, child2 = crossover(parent1, parent2), crossover(parent2, parent1)\n",
        "            new_population.extend([mutate(child1), mutate(child2)])\n",
        "        population = new_population\n",
        "\n",
        "        # Get the best formulation from the population\n",
        "        current_best_formulation = max(population, key=fitness)\n",
        "        current_best_fitness = fitness(current_best_formulation)\n",
        "\n",
        "        # Check for improvement in fitness\n",
        "        if current_best_fitness - best_fitness < fitness_threshold:\n",
        "            no_improvement_count += 1\n",
        "        else:\n",
        "            no_improvement_count = 0\n",
        "\n",
        "        best_fitness = current_best_fitness\n",
        "\n",
        "        # early stopping according to stagnation limit\n",
        "        if no_improvement_count >= stagnation_limit:\n",
        "            print(f\"Early stopping at generation {gen + 1}. Best Fitness: {best_fitness:.4f}\")\n",
        "            break\n",
        "\n",
        "        print(f\"Generation {gen + 1}, Best Fitness: {best_fitness:.4f}, Best Formulation: {current_best_formulation}\")\n",
        "\n",
        "    return current_best_formulation\n",
        "\n",
        "# Get optimal formulation from genetic algorithm\n",
        "optimal_formulation = genetic_algorithm()\n",
        "print(\"Optimal Formulation:\", optimal_formulation)\n"
      ],
      "metadata": {
        "colab": {
          "base_uri": "https://localhost:8080/"
        },
        "id": "d8Jap_RhekEA",
        "outputId": "2d100ef8-3d87-4fd6-e22a-c9ad028a4a27"
      },
      "execution_count": null,
      "outputs": [
        {
          "output_type": "stream",
          "name": "stdout",
          "text": [
            "Generation 1, Best Fitness: 2.1774, Best Formulation: {'Epoxy_Resin': 0.6775395753814552, 'Polyurethane': 0.20632453966064393, 'Silica_Nanoparticles': 0.05685102066774211, 'Healing_Agent': 0.05928486429015886}\n",
            "Generation 2, Best Fitness: 1.9984, Best Formulation: {'Epoxy_Resin': 0.5164905415752193, 'Polyurethane': 0.21944096602733523, 'Silica_Nanoparticles': 0.1756986924826384, 'Healing_Agent': 0.08836979991480712}\n",
            "Generation 3, Best Fitness: 1.8791, Best Formulation: {'Epoxy_Resin': 0.39414022835946644, 'Polyurethane': 0.2674443197936625, 'Silica_Nanoparticles': 0.20834613088669743, 'Healing_Agent': 0.1300693209601736}\n",
            "Generation 4, Best Fitness: 1.8514, Best Formulation: {'Epoxy_Resin': 0.41385717004962613, 'Polyurethane': 0.23063668986436264, 'Silica_Nanoparticles': 0.21494206199390017, 'Healing_Agent': 0.14056407809211102}\n",
            "Generation 5, Best Fitness: 1.8379, Best Formulation: {'Epoxy_Resin': 0.3434964474989623, 'Polyurethane': 0.30276122869739813, 'Silica_Nanoparticles': 0.1997039740823004, 'Healing_Agent': 0.15403834972133912}\n",
            "Generation 6, Best Fitness: 1.8695, Best Formulation: {'Epoxy_Resin': 0.3407395525006136, 'Polyurethane': 0.3093078915630024, 'Silica_Nanoparticles': 0.22227101338984617, 'Healing_Agent': 0.12768154254653788}\n",
            "Generation 7, Best Fitness: 1.8253, Best Formulation: {'Epoxy_Resin': 0.34935884336968576, 'Polyurethane': 0.2858968162990583, 'Silica_Nanoparticles': 0.20897999297599168, 'Healing_Agent': 0.15576434735526434}\n",
            "Generation 8, Best Fitness: 1.8112, Best Formulation: {'Epoxy_Resin': 0.32865770581849585, 'Polyurethane': 0.2914385988166782, 'Silica_Nanoparticles': 0.22521849330106228, 'Healing_Agent': 0.15468520206376363}\n",
            "Generation 9, Best Fitness: 1.7722, Best Formulation: {'Epoxy_Resin': 0.3317279640106199, 'Polyurethane': 0.29171649193745364, 'Silica_Nanoparticles': 0.18179631435962063, 'Healing_Agent': 0.19475922969230597}\n",
            "Generation 10, Best Fitness: 1.8451, Best Formulation: {'Epoxy_Resin': 0.32854682718350164, 'Polyurethane': 0.3102792695996353, 'Silica_Nanoparticles': 0.22099841869824355, 'Healing_Agent': 0.1401754845186195}\n",
            "Generation 11, Best Fitness: 1.9018, Best Formulation: {'Epoxy_Resin': 0.35947750643769516, 'Polyurethane': 0.3067971725072308, 'Silica_Nanoparticles': 0.22115732985547878, 'Healing_Agent': 0.1125679911995952}\n",
            "Generation 12, Best Fitness: 2.0331, Best Formulation: {'Epoxy_Resin': 0.40339026694071195, 'Polyurethane': 0.33156796878816025, 'Silica_Nanoparticles': 0.21188413032702502, 'Healing_Agent': 0.053157633944102826}\n",
            "Generation 13, Best Fitness: 1.8873, Best Formulation: {'Epoxy_Resin': 0.3551377438109669, 'Polyurethane': 0.3196987420736173, 'Silica_Nanoparticles': 0.1909728962992256, 'Healing_Agent': 0.13419061781619027}\n",
            "Generation 14, Best Fitness: 1.7820, Best Formulation: {'Epoxy_Resin': 0.3241331227969272, 'Polyurethane': 0.27578190111141576, 'Silica_Nanoparticles': 0.23667715777812692, 'Healing_Agent': 0.16340781831353005}\n",
            "Generation 15, Best Fitness: 1.7604, Best Formulation: {'Epoxy_Resin': 0.3231367313937944, 'Polyurethane': 0.2811435144423182, 'Silica_Nanoparticles': 0.20782902295152483, 'Healing_Agent': 0.1878907312123627}\n",
            "Generation 16, Best Fitness: 1.7357, Best Formulation: {'Epoxy_Resin': 0.3123767341534526, 'Polyurethane': 0.2748883886862552, 'Silica_Nanoparticles': 0.21750582697209686, 'Healing_Agent': 0.1952290501881954}\n",
            "Generation 17, Best Fitness: 1.8169, Best Formulation: {'Epoxy_Resin': 0.36234322730250257, 'Polyurethane': 0.29721249072409023, 'Silica_Nanoparticles': 0.15386595216563723, 'Healing_Agent': 0.18657832980777012}\n",
            "Generation 18, Best Fitness: 1.8017, Best Formulation: {'Epoxy_Resin': 0.33099601787743943, 'Polyurethane': 0.282703359337695, 'Silica_Nanoparticles': 0.22854429743281568, 'Healing_Agent': 0.15775632535204984}\n",
            "Generation 19, Best Fitness: 1.7752, Best Formulation: {'Epoxy_Resin': 0.3259090279908764, 'Polyurethane': 0.2793912330830398, 'Silica_Nanoparticles': 0.2198537410296253, 'Healing_Agent': 0.17484599789645844}\n",
            "Generation 20, Best Fitness: 1.8260, Best Formulation: {'Epoxy_Resin': 0.3323405559350336, 'Polyurethane': 0.30397447998356275, 'Silica_Nanoparticles': 0.2077651612419369, 'Healing_Agent': 0.15591980283946677}\n",
            "Generation 21, Best Fitness: 1.8027, Best Formulation: {'Epoxy_Resin': 0.29743834825771825, 'Polyurethane': 0.32136524467383115, 'Silica_Nanoparticles': 0.2201240250704492, 'Healing_Agent': 0.16107238199800136}\n",
            "Generation 22, Best Fitness: 1.7893, Best Formulation: {'Epoxy_Resin': 0.3049882780878076, 'Polyurethane': 0.2897780514757626, 'Silica_Nanoparticles': 0.25380641946170657, 'Healing_Agent': 0.1514272509747233}\n",
            "Generation 23, Best Fitness: 1.7772, Best Formulation: {'Epoxy_Resin': 0.3064503522840264, 'Polyurethane': 0.2980304659497448, 'Silica_Nanoparticles': 0.22353084511456522, 'Healing_Agent': 0.17198833665166358}\n",
            "Generation 24, Best Fitness: 1.8332, Best Formulation: {'Epoxy_Resin': 0.32387824109678215, 'Polyurethane': 0.30700343488448245, 'Silica_Nanoparticles': 0.22521320543212495, 'Healing_Agent': 0.1439051185866105}\n",
            "Generation 25, Best Fitness: 1.7624, Best Formulation: {'Epoxy_Resin': 0.3208164816656927, 'Polyurethane': 0.31622733073711845, 'Silica_Nanoparticles': 0.1464109773952218, 'Healing_Agent': 0.21654521020196688}\n",
            "Generation 26, Best Fitness: 1.7600, Best Formulation: {'Epoxy_Resin': 0.35073293501742847, 'Polyurethane': 0.27803427150530335, 'Silica_Nanoparticles': 0.15981955631638933, 'Healing_Agent': 0.2114132371608789}\n",
            "Generation 27, Best Fitness: 1.7351, Best Formulation: {'Epoxy_Resin': 0.32856181087759223, 'Polyurethane': 0.2958780391941562, 'Silica_Nanoparticles': 0.14494407676943072, 'Healing_Agent': 0.23061607315882096}\n",
            "Generation 28, Best Fitness: 1.7405, Best Formulation: {'Epoxy_Resin': 0.3141589302025039, 'Polyurethane': 0.28204095327022854, 'Silica_Nanoparticles': 0.20478952202799322, 'Healing_Agent': 0.19901059449927427}\n",
            "Generation 29, Best Fitness: 1.8304, Best Formulation: {'Epoxy_Resin': 0.3293083818104402, 'Polyurethane': 0.3091007651658922, 'Silica_Nanoparticles': 0.20798002217326556, 'Healing_Agent': 0.1536108308504021}\n",
            "Generation 30, Best Fitness: 1.7957, Best Formulation: {'Epoxy_Resin': 0.3232022781033791, 'Polyurethane': 0.29000678326658613, 'Silica_Nanoparticles': 0.22398066815956097, 'Healing_Agent': 0.16281027047047378}\n",
            "Generation 31, Best Fitness: 1.7492, Best Formulation: {'Epoxy_Resin': 0.3156242452014019, 'Polyurethane': 0.30329249110133916, 'Silica_Nanoparticles': 0.16910966309789577, 'Healing_Agent': 0.2119736005993631}\n",
            "Generation 32, Best Fitness: 1.8089, Best Formulation: {'Epoxy_Resin': 0.296736570275758, 'Polyurethane': 0.33127042340247137, 'Silica_Nanoparticles': 0.20821177499690105, 'Healing_Agent': 0.1637812313248696}\n",
            "Generation 33, Best Fitness: 1.8156, Best Formulation: {'Epoxy_Resin': 0.31000822256510757, 'Polyurethane': 0.3344176039312074, 'Silica_Nanoparticles': 0.18256432906661008, 'Healing_Agent': 0.17300984443707498}\n",
            "Generation 34, Best Fitness: 1.8420, Best Formulation: {'Epoxy_Resin': 0.32141441983569374, 'Polyurethane': 0.31884329767921643, 'Silica_Nanoparticles': 0.21546300879492958, 'Healing_Agent': 0.14427927369016016}\n",
            "Generation 35, Best Fitness: 1.8273, Best Formulation: {'Epoxy_Resin': 0.32849196618912724, 'Polyurethane': 0.28365904693323357, 'Silica_Nanoparticles': 0.2557964278456969, 'Healing_Agent': 0.13205255903194232}\n",
            "Generation 36, Best Fitness: 1.8460, Best Formulation: {'Epoxy_Resin': 0.3067531249784204, 'Polyurethane': 0.33638710941401245, 'Silica_Nanoparticles': 0.21383124917775745, 'Healing_Agent': 0.14302851642980974}\n",
            "Generation 37, Best Fitness: 1.8773, Best Formulation: {'Epoxy_Resin': 0.33737356032473387, 'Polyurethane': 0.3094581598741365, 'Silica_Nanoparticles': 0.23586811631281646, 'Healing_Agent': 0.11730016348831313}\n",
            "Generation 38, Best Fitness: 1.8109, Best Formulation: {'Epoxy_Resin': 0.32719629301214337, 'Polyurethane': 0.28776373601570887, 'Silica_Nanoparticles': 0.2349008515704036, 'Healing_Agent': 0.15013911940174404}\n",
            "Generation 39, Best Fitness: 1.8266, Best Formulation: {'Epoxy_Resin': 0.3232735583068372, 'Polyurethane': 0.2982725977802473, 'Silica_Nanoparticles': 0.23699350667908198, 'Healing_Agent': 0.14146033723383353}\n",
            "Generation 40, Best Fitness: 1.9262, Best Formulation: {'Epoxy_Resin': 0.3249067742605895, 'Polyurethane': 0.33312077134689344, 'Silica_Nanoparticles': 0.2605866187621574, 'Healing_Agent': 0.08138583563035956}\n",
            "Generation 41, Best Fitness: 1.7497, Best Formulation: {'Epoxy_Resin': 0.291538726388387, 'Polyurethane': 0.2996076769678114, 'Silica_Nanoparticles': 0.22349128385085365, 'Healing_Agent': 0.18536231279294793}\n",
            "Generation 42, Best Fitness: 1.8048, Best Formulation: {'Epoxy_Resin': 0.2940975511916059, 'Polyurethane': 0.3121001928280042, 'Silica_Nanoparticles': 0.24645052334966494, 'Healing_Agent': 0.1473517326307249}\n",
            "Generation 43, Best Fitness: 1.7514, Best Formulation: {'Epoxy_Resin': 0.2899969977879905, 'Polyurethane': 0.29959601274535297, 'Silica_Nanoparticles': 0.22816836447872932, 'Healing_Agent': 0.1822386249879272}\n",
            "Generation 44, Best Fitness: 1.8502, Best Formulation: {'Epoxy_Resin': 0.30929063296437576, 'Polyurethane': 0.3159135117202777, 'Silica_Nanoparticles': 0.2524172774593064, 'Healing_Agent': 0.1223785778560401}\n",
            "Generation 45, Best Fitness: 1.8166, Best Formulation: {'Epoxy_Resin': 0.3284969311687568, 'Polyurethane': 0.2981852072144976, 'Silica_Nanoparticles': 0.21757456427224564, 'Healing_Agent': 0.1557432973445}\n",
            "Generation 46, Best Fitness: 1.8043, Best Formulation: {'Epoxy_Resin': 0.32550245000726885, 'Polyurethane': 0.286529786545276, 'Silica_Nanoparticles': 0.23427803622778168, 'Healing_Agent': 0.15368972721967344}\n",
            "Generation 47, Best Fitness: 1.8115, Best Formulation: {'Epoxy_Resin': 0.28869471360157717, 'Polyurethane': 0.33432706678307333, 'Silica_Nanoparticles': 0.22031703809014558, 'Healing_Agent': 0.15666118152520403}\n",
            "Generation 48, Best Fitness: 1.8684, Best Formulation: {'Epoxy_Resin': 0.3142846023032305, 'Polyurethane': 0.31791781557784127, 'Silica_Nanoparticles': 0.2560701402710692, 'Healing_Agent': 0.11172744184785893}\n",
            "Generation 49, Best Fitness: 1.9303, Best Formulation: {'Epoxy_Resin': 0.33698763246830027, 'Polyurethane': 0.37796812175552863, 'Silica_Nanoparticles': 0.15429268910969748, 'Healing_Agent': 0.1307515566664736}\n",
            "Generation 50, Best Fitness: 1.8935, Best Formulation: {'Epoxy_Resin': 0.36000596617822994, 'Polyurethane': 0.2947764392283175, 'Silica_Nanoparticles': 0.23552500251374092, 'Healing_Agent': 0.10969259207971174}\n",
            "Optimal Formulation: {'Epoxy_Resin': 0.36000596617822994, 'Polyurethane': 0.2947764392283175, 'Silica_Nanoparticles': 0.23552500251374092, 'Healing_Agent': 0.10969259207971174}\n"
          ]
        }
      ]
    }
  ]
}